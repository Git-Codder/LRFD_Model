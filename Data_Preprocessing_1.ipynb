{
  "nbformat": 4,
  "nbformat_minor": 0,
  "metadata": {
    "colab": {
      "name": "Data_Preprocessing_1.ipynb",
      "provenance": [],
      "collapsed_sections": [],
      "include_colab_link": true
    },
    "kernelspec": {
      "name": "python3",
      "display_name": "Python 3"
    },
    "language_info": {
      "name": "python"
    },
    "accelerator": "TPU"
  },
  "cells": [
    {
      "cell_type": "markdown",
      "metadata": {
        "id": "view-in-github",
        "colab_type": "text"
      },
      "source": [
        "<a href=\"https://colab.research.google.com/github/Git-Codder/LRFD_Model/blob/main/Data_Preprocessing_1.ipynb\" target=\"_parent\"><img src=\"https://colab.research.google.com/assets/colab-badge.svg\" alt=\"Open In Colab\"/></a>"
      ]
    },
    {
      "cell_type": "markdown",
      "source": [
        "#Enabling TPU in Google Colab"
      ],
      "metadata": {
        "id": "HqVr-Yn85eUD"
      }
    },
    {
      "cell_type": "code",
      "source": [
        "%tensorflow_version 2.x\n",
        "import tensorflow as tf\n",
        "print(\"Tensorflow version \" + tf.__version__)\n",
        "\n",
        "try:\n",
        "  tpu = tf.distribute.cluster_resolver.TPUClusterResolver()  # TPU detection\n",
        "  print('Running on TPU ', tpu.cluster_spec().as_dict()['worker'])\n",
        "except ValueError:\n",
        "  raise BaseException('ERROR: Not connected to a TPU runtime; please see the previous cell in this notebook for instructions!')\n",
        "\n",
        "tf.config.experimental_connect_to_cluster(tpu)\n",
        "tf.tpu.experimental.initialize_tpu_system(tpu)\n",
        "tpu_strategy = tf.distribute.experimental.TPUStrategy(tpu)"
      ],
      "metadata": {
        "id": "cksfhXoOOSkZ"
      },
      "execution_count": null,
      "outputs": []
    },
    {
      "cell_type": "markdown",
      "source": [
        "#Mout Drive"
      ],
      "metadata": {
        "id": "yox2TDkh5lY6"
      }
    },
    {
      "cell_type": "code",
      "source": [
        "from google.colab import drive\n",
        "drive.mount('/content/drive', force_remount=True)"
      ],
      "metadata": {
        "colab": {
          "base_uri": "https://localhost:8080/"
        },
        "id": "VFeuxaCuDCIR",
        "outputId": "93ea6d74-851e-4825-80f5-3a13db8e1f2d"
      },
      "execution_count": null,
      "outputs": [
        {
          "output_type": "stream",
          "name": "stdout",
          "text": [
            "Mounted at /content/drive\n"
          ]
        }
      ]
    },
    {
      "cell_type": "markdown",
      "source": [
        "#Install Dependencies "
      ],
      "metadata": {
        "id": "o4Ai9TWI5okc"
      }
    },
    {
      "cell_type": "code",
      "execution_count": null,
      "metadata": {
        "id": "gXZJIKmS20AV",
        "colab": {
          "base_uri": "https://localhost:8080/"
        },
        "outputId": "1d35bd26-bb9d-4bc7-d12f-42b2543f655a"
      },
      "outputs": [
        {
          "output_type": "stream",
          "name": "stdout",
          "text": [
            "Looking in indexes: https://pypi.org/simple, https://us-python.pkg.dev/colab-wheels/public/simple/\n",
            "Collecting mtcnn\n",
            "  Downloading mtcnn-0.1.1-py3-none-any.whl (2.3 MB)\n",
            "\u001b[K     |████████████████████████████████| 2.3 MB 4.8 MB/s \n",
            "\u001b[?25hRequirement already satisfied: opencv-python>=4.1.0 in /usr/local/lib/python3.7/dist-packages (from mtcnn) (4.1.2.30)\n",
            "Requirement already satisfied: keras>=2.0.0 in /usr/local/lib/python3.7/dist-packages (from mtcnn) (2.8.0)\n",
            "Requirement already satisfied: numpy>=1.14.5 in /usr/local/lib/python3.7/dist-packages (from opencv-python>=4.1.0->mtcnn) (1.21.6)\n",
            "Installing collected packages: mtcnn\n",
            "Successfully installed mtcnn-0.1.1\n"
          ]
        }
      ],
      "source": [
        "!pip install mtcnn"
      ]
    },
    {
      "cell_type": "code",
      "source": [
        "from mtcnn import MTCNN\n",
        "import cv2\n",
        "import matplotlib.pyplot as plt\n",
        "import numpy as np"
      ],
      "metadata": {
        "id": "oM6Z5hgg3M33"
      },
      "execution_count": null,
      "outputs": []
    },
    {
      "cell_type": "markdown",
      "source": [
        "#unzip the file"
      ],
      "metadata": {
        "id": "3R0PPznI5xZU"
      }
    },
    {
      "cell_type": "code",
      "source": [
        "!unzip /content/drive/MyDrive/LRFD/Data_Images.zip -d /content/drive/MyDrive/LRFD/"
      ],
      "metadata": {
        "id": "2lR6FL9xE8vG"
      },
      "execution_count": null,
      "outputs": []
    },
    {
      "cell_type": "markdown",
      "source": [
        "#List All files in directory"
      ],
      "metadata": {
        "id": "zvV7bh9T55eg"
      }
    },
    {
      "cell_type": "code",
      "source": [
        "import os\n",
        "from PIL import Image\n",
        "\n",
        "info = []\n",
        "for root, __, files in os.walk(\"/content/drive/MyDrive/LRFD/images\"):\n",
        "  for f in files:\n",
        "      if f.endswith(\".jpg\"):\n",
        "         info.append({\n",
        "                      \"path\":os.path.join(root, f),\n",
        "                      \"img\": Image.open(os.path.join(root, f))\n",
        "                     # \"foldername\": os.path.dirname(root)\n",
        "                     })\n",
        "         \n",
        "len(info)\n"
      ],
      "metadata": {
        "id": "J7Y_jyHjCObu",
        "colab": {
          "base_uri": "https://localhost:8080/"
        },
        "outputId": "c7f5960a-213a-4ed1-ef76-0194a808fc09"
      },
      "execution_count": null,
      "outputs": [
        {
          "output_type": "execute_result",
          "data": {
            "text/plain": [
              "5000"
            ]
          },
          "metadata": {},
          "execution_count": 7
        }
      ]
    },
    {
      "cell_type": "code",
      "source": [
        "# info[0]['path'] "
      ],
      "metadata": {
        "id": "cZrjdnnHIEgV"
      },
      "execution_count": null,
      "outputs": []
    },
    {
      "cell_type": "markdown",
      "source": [
        "#Deep Copy"
      ],
      "metadata": {
        "id": "VgZG78m85-rN"
      }
    },
    {
      "cell_type": "code",
      "source": [
        "from copy import deepcopy\n",
        "labeled_info = deepcopy(info)"
      ],
      "metadata": {
        "id": "UuT4x5VcJeYw"
      },
      "execution_count": null,
      "outputs": []
    },
    {
      "cell_type": "markdown",
      "source": [
        "#MTCNN Detector"
      ],
      "metadata": {
        "id": "WuRQqkqz6A_3"
      }
    },
    {
      "cell_type": "code",
      "source": [
        "detector = MTCNN()\n",
        "i = 0\n",
        "for i in range(len(labeled_info)):\n",
        "  img1 = cv2.cvtColor(cv2.imread(labeled_info[i]['path']), cv2.COLOR_BGR2RGB)\n",
        "  temp = detector.detect_faces(img1)\n",
        "  if(len(temp) == 1):\n",
        "    cord = temp[0]['box']\n",
        "    labeled_info[i]['label'] = 'face'\n",
        "    labeled_info[i]['points'] = [[cord[0], cord[1]], [cord[0]+cord[2], cord[1]+cord[3]]]\n",
        "  elif(len(temp) == 0):\n",
        "    labeled_info[i]['label'] = 'noface'\n",
        "    labeled_info[i]['points'] = [[0,0],[0,0]]\n",
        "  if(i%500 == 0):\n",
        "    print(i)\n",
        "\n",
        "len(labeled_info)\n",
        "    "
      ],
      "metadata": {
        "id": "9DVBOWARJC0X",
        "colab": {
          "base_uri": "https://localhost:8080/"
        },
        "outputId": "2341860e-2a6c-4862-8976-3baf8a25c75d"
      },
      "execution_count": null,
      "outputs": [
        {
          "metadata": {
            "tags": null
          },
          "name": "stdout",
          "output_type": "stream",
          "text": [
            "WARNING:tensorflow:5 out of the last 6 calls to <function Model.make_predict_function.<locals>.predict_function at 0x7fe0bb7c6b90> triggered tf.function retracing. Tracing is expensive and the excessive number of tracings could be due to (1) creating @tf.function repeatedly in a loop, (2) passing tensors with different shapes, (3) passing Python objects instead of tensors. For (1), please define your @tf.function outside of the loop. For (2), @tf.function has experimental_relax_shapes=True option that relaxes argument shapes that can avoid unnecessary retracing. For (3), please refer to https://www.tensorflow.org/guide/function#controlling_retracing and https://www.tensorflow.org/api_docs/python/tf/function for  more details.\n"
          ]
        },
        {
          "metadata": {
            "tags": null
          },
          "name": "stderr",
          "output_type": "stream",
          "text": [
            "WARNING:tensorflow:5 out of the last 6 calls to <function Model.make_predict_function.<locals>.predict_function at 0x7fe0bb7c6b90> triggered tf.function retracing. Tracing is expensive and the excessive number of tracings could be due to (1) creating @tf.function repeatedly in a loop, (2) passing tensors with different shapes, (3) passing Python objects instead of tensors. For (1), please define your @tf.function outside of the loop. For (2), @tf.function has experimental_relax_shapes=True option that relaxes argument shapes that can avoid unnecessary retracing. For (3), please refer to https://www.tensorflow.org/guide/function#controlling_retracing and https://www.tensorflow.org/api_docs/python/tf/function for  more details.\n"
          ]
        },
        {
          "metadata": {
            "tags": null
          },
          "name": "stdout",
          "output_type": "stream",
          "text": [
            "0\n",
            "500\n",
            "1000\n",
            "1500\n",
            "2000\n",
            "2500\n",
            "3000\n",
            "3500\n",
            "4000\n",
            "4500\n"
          ]
        },
        {
          "output_type": "execute_result",
          "data": {
            "text/plain": [
              "5000"
            ]
          },
          "metadata": {},
          "execution_count": 10
        }
      ]
    },
    {
      "cell_type": "code",
      "source": [
        ""
      ],
      "metadata": {
        "id": "iLY9TTdLCpsh"
      },
      "execution_count": null,
      "outputs": []
    },
    {
      "cell_type": "code",
      "source": [
        "labeled_info_1 = deepcopy(labeled_info)"
      ],
      "metadata": {
        "id": "kGcSjPS6p7OH"
      },
      "execution_count": null,
      "outputs": []
    },
    {
      "cell_type": "code",
      "source": [
        "# labeled_info_1[0]"
      ],
      "metadata": {
        "id": "LGUpUcxqqDIN"
      },
      "execution_count": null,
      "outputs": []
    },
    {
      "cell_type": "markdown",
      "source": [
        "#predict Test Image"
      ],
      "metadata": {
        "id": "VD2rUGc66Qcb"
      }
    },
    {
      "cell_type": "code",
      "source": [
        "img = cv2.cvtColor(cv2.imread(info[0]['path']), cv2.COLOR_BGR2RGB)\n",
        "detector = MTCNN()\n",
        "cord = detector.detect_faces(img)[0]['box'];"
      ],
      "metadata": {
        "id": "Oh1GDsLO3nUH"
      },
      "execution_count": null,
      "outputs": []
    },
    {
      "cell_type": "code",
      "source": [
        "line_red = cv2.rectangle(img,(cord[0],cord[1]),(cord[0]+cord[2],cord[1]+cord[3]),(255,0,0),1)\n",
        "plt.imshow(line_red)"
      ],
      "metadata": {
        "id": "ocGRPBHs86py"
      },
      "execution_count": null,
      "outputs": []
    },
    {
      "cell_type": "markdown",
      "source": [
        "#Remove 'img' attribute from object"
      ],
      "metadata": {
        "id": "zkbBGk8j6hLx"
      }
    },
    {
      "cell_type": "code",
      "source": [
        "for items in labeled_info_1:\n",
        "        del items['img']\n",
        "labeled_info_1[0]"
      ],
      "metadata": {
        "id": "S30gDmDurM1I",
        "colab": {
          "base_uri": "https://localhost:8080/"
        },
        "outputId": "e8d94022-baf3-4054-ccf8-e3c4c1a2f813"
      },
      "execution_count": null,
      "outputs": [
        {
          "output_type": "execute_result",
          "data": {
            "text/plain": [
              "{'label': 'face',\n",
              " 'path': '/content/drive/MyDrive/LRFD/images/img_884_4962.jpg',\n",
              " 'points': [[16, 6], [36, 29]]}"
            ]
          },
          "metadata": {},
          "execution_count": 12
        }
      ]
    },
    {
      "cell_type": "markdown",
      "source": [
        "#Read FIle and Preprocessing"
      ],
      "metadata": {
        "id": "lUci4wHA6l4B"
      }
    },
    {
      "cell_type": "code",
      "source": [
        "import json\n",
        "def create_json(stList):\n",
        "    with open(\"/content/drive/MyDrive/LRFD/labeled_info_1.json\", \"w\") as file:\n",
        "        json.dump([ob for ob in stList], file)"
      ],
      "metadata": {
        "id": "3DoiEBGno8q1"
      },
      "execution_count": null,
      "outputs": []
    },
    {
      "cell_type": "code",
      "source": [
        "create_json(labeled_info_1)"
      ],
      "metadata": {
        "id": "52SCGNTBpLu7"
      },
      "execution_count": null,
      "outputs": []
    },
    {
      "cell_type": "code",
      "source": [
        "import pandas as pd\n",
        "labeled_info = pd.read_json('/content/drive/MyDrive/LRFD/labeled_info_1.json')\n",
        "labeled_info"
      ],
      "metadata": {
        "colab": {
          "base_uri": "https://localhost:8080/",
          "height": 423
        },
        "id": "3Kp1bF3pD46j",
        "outputId": "b7d9125a-2a1d-42a0-ce5d-53df0ac89b0c"
      },
      "execution_count": null,
      "outputs": [
        {
          "output_type": "execute_result",
          "data": {
            "text/plain": [
              "                                                   path   label  \\\n",
              "0     /content/drive/MyDrive/LRFD/images/img_884_496...    face   \n",
              "1     /content/drive/MyDrive/LRFD/images/img_245_460...  noface   \n",
              "2     /content/drive/MyDrive/LRFD/images/img_1072_14...  noface   \n",
              "3     /content/drive/MyDrive/LRFD/images/img_620_391...    face   \n",
              "4     /content/drive/MyDrive/LRFD/images/img_643_207...    face   \n",
              "...                                                 ...     ...   \n",
              "4995  /content/drive/MyDrive/LRFD/images/img_908_434...    face   \n",
              "4996  /content/drive/MyDrive/LRFD/images/img_482_487...    face   \n",
              "4997  /content/drive/MyDrive/LRFD/images/img_1068_11...    face   \n",
              "4998  /content/drive/MyDrive/LRFD/images/img_589_263...    face   \n",
              "4999  /content/drive/MyDrive/LRFD/images/img_972_269...    face   \n",
              "\n",
              "                    points  \n",
              "0      [[16, 6], [36, 29]]  \n",
              "1         [[0, 0], [0, 0]]  \n",
              "2         [[0, 0], [0, 0]]  \n",
              "3       [[9, 5], [21, 25]]  \n",
              "4      [[23, 7], [34, 21]]  \n",
              "...                    ...  \n",
              "4995  [[26, 11], [39, 24]]  \n",
              "4996  [[20, 10], [32, 26]]  \n",
              "4997   [[23, 6], [40, 24]]  \n",
              "4998   [[29, 8], [39, 21]]  \n",
              "4999   [[11, 6], [43, 48]]  \n",
              "\n",
              "[5000 rows x 3 columns]"
            ],
            "text/html": [
              "\n",
              "  <div id=\"df-76e8af69-10eb-455d-ae0d-d859adf983b2\">\n",
              "    <div class=\"colab-df-container\">\n",
              "      <div>\n",
              "<style scoped>\n",
              "    .dataframe tbody tr th:only-of-type {\n",
              "        vertical-align: middle;\n",
              "    }\n",
              "\n",
              "    .dataframe tbody tr th {\n",
              "        vertical-align: top;\n",
              "    }\n",
              "\n",
              "    .dataframe thead th {\n",
              "        text-align: right;\n",
              "    }\n",
              "</style>\n",
              "<table border=\"1\" class=\"dataframe\">\n",
              "  <thead>\n",
              "    <tr style=\"text-align: right;\">\n",
              "      <th></th>\n",
              "      <th>path</th>\n",
              "      <th>label</th>\n",
              "      <th>points</th>\n",
              "    </tr>\n",
              "  </thead>\n",
              "  <tbody>\n",
              "    <tr>\n",
              "      <th>0</th>\n",
              "      <td>/content/drive/MyDrive/LRFD/images/img_884_496...</td>\n",
              "      <td>face</td>\n",
              "      <td>[[16, 6], [36, 29]]</td>\n",
              "    </tr>\n",
              "    <tr>\n",
              "      <th>1</th>\n",
              "      <td>/content/drive/MyDrive/LRFD/images/img_245_460...</td>\n",
              "      <td>noface</td>\n",
              "      <td>[[0, 0], [0, 0]]</td>\n",
              "    </tr>\n",
              "    <tr>\n",
              "      <th>2</th>\n",
              "      <td>/content/drive/MyDrive/LRFD/images/img_1072_14...</td>\n",
              "      <td>noface</td>\n",
              "      <td>[[0, 0], [0, 0]]</td>\n",
              "    </tr>\n",
              "    <tr>\n",
              "      <th>3</th>\n",
              "      <td>/content/drive/MyDrive/LRFD/images/img_620_391...</td>\n",
              "      <td>face</td>\n",
              "      <td>[[9, 5], [21, 25]]</td>\n",
              "    </tr>\n",
              "    <tr>\n",
              "      <th>4</th>\n",
              "      <td>/content/drive/MyDrive/LRFD/images/img_643_207...</td>\n",
              "      <td>face</td>\n",
              "      <td>[[23, 7], [34, 21]]</td>\n",
              "    </tr>\n",
              "    <tr>\n",
              "      <th>...</th>\n",
              "      <td>...</td>\n",
              "      <td>...</td>\n",
              "      <td>...</td>\n",
              "    </tr>\n",
              "    <tr>\n",
              "      <th>4995</th>\n",
              "      <td>/content/drive/MyDrive/LRFD/images/img_908_434...</td>\n",
              "      <td>face</td>\n",
              "      <td>[[26, 11], [39, 24]]</td>\n",
              "    </tr>\n",
              "    <tr>\n",
              "      <th>4996</th>\n",
              "      <td>/content/drive/MyDrive/LRFD/images/img_482_487...</td>\n",
              "      <td>face</td>\n",
              "      <td>[[20, 10], [32, 26]]</td>\n",
              "    </tr>\n",
              "    <tr>\n",
              "      <th>4997</th>\n",
              "      <td>/content/drive/MyDrive/LRFD/images/img_1068_11...</td>\n",
              "      <td>face</td>\n",
              "      <td>[[23, 6], [40, 24]]</td>\n",
              "    </tr>\n",
              "    <tr>\n",
              "      <th>4998</th>\n",
              "      <td>/content/drive/MyDrive/LRFD/images/img_589_263...</td>\n",
              "      <td>face</td>\n",
              "      <td>[[29, 8], [39, 21]]</td>\n",
              "    </tr>\n",
              "    <tr>\n",
              "      <th>4999</th>\n",
              "      <td>/content/drive/MyDrive/LRFD/images/img_972_269...</td>\n",
              "      <td>face</td>\n",
              "      <td>[[11, 6], [43, 48]]</td>\n",
              "    </tr>\n",
              "  </tbody>\n",
              "</table>\n",
              "<p>5000 rows × 3 columns</p>\n",
              "</div>\n",
              "      <button class=\"colab-df-convert\" onclick=\"convertToInteractive('df-76e8af69-10eb-455d-ae0d-d859adf983b2')\"\n",
              "              title=\"Convert this dataframe to an interactive table.\"\n",
              "              style=\"display:none;\">\n",
              "        \n",
              "  <svg xmlns=\"http://www.w3.org/2000/svg\" height=\"24px\"viewBox=\"0 0 24 24\"\n",
              "       width=\"24px\">\n",
              "    <path d=\"M0 0h24v24H0V0z\" fill=\"none\"/>\n",
              "    <path d=\"M18.56 5.44l.94 2.06.94-2.06 2.06-.94-2.06-.94-.94-2.06-.94 2.06-2.06.94zm-11 1L8.5 8.5l.94-2.06 2.06-.94-2.06-.94L8.5 2.5l-.94 2.06-2.06.94zm10 10l.94 2.06.94-2.06 2.06-.94-2.06-.94-.94-2.06-.94 2.06-2.06.94z\"/><path d=\"M17.41 7.96l-1.37-1.37c-.4-.4-.92-.59-1.43-.59-.52 0-1.04.2-1.43.59L10.3 9.45l-7.72 7.72c-.78.78-.78 2.05 0 2.83L4 21.41c.39.39.9.59 1.41.59.51 0 1.02-.2 1.41-.59l7.78-7.78 2.81-2.81c.8-.78.8-2.07 0-2.86zM5.41 20L4 18.59l7.72-7.72 1.47 1.35L5.41 20z\"/>\n",
              "  </svg>\n",
              "      </button>\n",
              "      \n",
              "  <style>\n",
              "    .colab-df-container {\n",
              "      display:flex;\n",
              "      flex-wrap:wrap;\n",
              "      gap: 12px;\n",
              "    }\n",
              "\n",
              "    .colab-df-convert {\n",
              "      background-color: #E8F0FE;\n",
              "      border: none;\n",
              "      border-radius: 50%;\n",
              "      cursor: pointer;\n",
              "      display: none;\n",
              "      fill: #1967D2;\n",
              "      height: 32px;\n",
              "      padding: 0 0 0 0;\n",
              "      width: 32px;\n",
              "    }\n",
              "\n",
              "    .colab-df-convert:hover {\n",
              "      background-color: #E2EBFA;\n",
              "      box-shadow: 0px 1px 2px rgba(60, 64, 67, 0.3), 0px 1px 3px 1px rgba(60, 64, 67, 0.15);\n",
              "      fill: #174EA6;\n",
              "    }\n",
              "\n",
              "    [theme=dark] .colab-df-convert {\n",
              "      background-color: #3B4455;\n",
              "      fill: #D2E3FC;\n",
              "    }\n",
              "\n",
              "    [theme=dark] .colab-df-convert:hover {\n",
              "      background-color: #434B5C;\n",
              "      box-shadow: 0px 1px 3px 1px rgba(0, 0, 0, 0.15);\n",
              "      filter: drop-shadow(0px 1px 2px rgba(0, 0, 0, 0.3));\n",
              "      fill: #FFFFFF;\n",
              "    }\n",
              "  </style>\n",
              "\n",
              "      <script>\n",
              "        const buttonEl =\n",
              "          document.querySelector('#df-76e8af69-10eb-455d-ae0d-d859adf983b2 button.colab-df-convert');\n",
              "        buttonEl.style.display =\n",
              "          google.colab.kernel.accessAllowed ? 'block' : 'none';\n",
              "\n",
              "        async function convertToInteractive(key) {\n",
              "          const element = document.querySelector('#df-76e8af69-10eb-455d-ae0d-d859adf983b2');\n",
              "          const dataTable =\n",
              "            await google.colab.kernel.invokeFunction('convertToInteractive',\n",
              "                                                     [key], {});\n",
              "          if (!dataTable) return;\n",
              "\n",
              "          const docLinkHtml = 'Like what you see? Visit the ' +\n",
              "            '<a target=\"_blank\" href=https://colab.research.google.com/notebooks/data_table.ipynb>data table notebook</a>'\n",
              "            + ' to learn more about interactive tables.';\n",
              "          element.innerHTML = '';\n",
              "          dataTable['output_type'] = 'display_data';\n",
              "          await google.colab.output.renderOutput(dataTable, element);\n",
              "          const docLink = document.createElement('div');\n",
              "          docLink.innerHTML = docLinkHtml;\n",
              "          element.appendChild(docLink);\n",
              "        }\n",
              "      </script>\n",
              "    </div>\n",
              "  </div>\n",
              "  "
            ]
          },
          "metadata": {},
          "execution_count": 16
        }
      ]
    },
    {
      "cell_type": "code",
      "source": [
        "type(labeled_info)"
      ],
      "metadata": {
        "colab": {
          "base_uri": "https://localhost:8080/"
        },
        "id": "ZlnePWByE64f",
        "outputId": "2997e262-c946-43e7-a000-2c06626acb29"
      },
      "execution_count": null,
      "outputs": [
        {
          "output_type": "execute_result",
          "data": {
            "text/plain": [
              "pandas.core.frame.DataFrame"
            ]
          },
          "metadata": {},
          "execution_count": 25
        }
      ]
    },
    {
      "cell_type": "markdown",
      "source": [
        "#Create Json file for each image & Move images in right folder"
      ],
      "metadata": {
        "id": "-7oGi7wC6q_0"
      }
    },
    {
      "cell_type": "code",
      "source": [
        "# folder = ['30','70','110','200']\n",
        "# for fold in folder:\n",
        "#   cnt = 1;\n",
        "#   os.mkdir(\"/content/drive/MyDrive/LRFD/Image_data/\" + fold + \"/noface\")\n",
        "#   os.mkdir(\"/content/drive/MyDrive/LRFD/Image_data/\" + fold + \"/labels\")\n",
        "#   os.mkdir(\"/content/drive/MyDrive/LRFD/Image_data/\" + fold + \"/img\")\n",
        "#   for root, __, files in os.walk(\"/content/drive/MyDrive/LRFD/Image_data/\" + fold):\n",
        "#     for f in files:\n",
        "#         if f.endswith(\".jpg\"):\n",
        "#           path=os.path.join(root, f)\n",
        "#           split_string = path.split(\".\",1)\n",
        "#           split_string_json = path.split(\"/\")\n",
        "          \n",
        "#           newnameJson = \"\"\n",
        "#           for v in range(len(split_string_json)-3):\n",
        "#             newnameJson += split_string_json[v] + \"/\"\n",
        "#           newnameJson += \"labels/\"\n",
        "\n",
        "#           newnameJson += split_string_json[len(split_string_json)-1].split(\".\",1)[0] + \"_\" + str(cnt) + \".json\"\n",
        "#           newnameImg = split_string[0] +\"_\"+ str(cnt) + \".jpg\"\n",
        "\n",
        "#           result = labeled_info.loc[(labeled_info['path'] == path)]\n",
        "#           if(result['label'].iloc[0] == 'noface'):\n",
        "#               !mv $path $newnameImg\n",
        "#               dest = \"/content/drive/MyDrive/LRFD/Image_data/\" + fold + \"/noface\"\n",
        "#               !mv $newnameImg $dest\n",
        "#               print(\"removed file wiht path : \" + path)\n",
        "#           else:\n",
        "#             !mv $path $newnameImg\n",
        "#             dest = \"/content/drive/MyDrive/LRFD/Image_data/\" + fold + \"/img\"\n",
        "#             !mv $newnameImg $dest\n",
        "#             obj = []\n",
        "#             obj.append({\n",
        "#                 \"label\":\"face\",\n",
        "#                 \"points\":result['points'].iloc[0]\n",
        "#             })\n",
        "            \n",
        "#             with open(newnameJson, \"w\") as file:\n",
        "#               json.dump([ob for ob in obj], file)\n",
        "#           cnt += 1\n",
        "\n"
      ],
      "metadata": {
        "id": "Xx5JjbFGEM1o"
      },
      "execution_count": null,
      "outputs": []
    },
    {
      "cell_type": "code",
      "source": [
        "\n",
        "cnt = 1;\n",
        "os.mkdir(\"/content/drive/MyDrive/LRFD/Image_data/noface\")\n",
        "os.mkdir(\"/content/drive/MyDrive/LRFD/Image_data/labels\")\n",
        "os.mkdir(\"/content/drive/MyDrive/LRFD/Image_data/img\")\n",
        "for root, __, files in os.walk(\"/content/drive/MyDrive/LRFD/images/\"):\n",
        "  for f in files:\n",
        "      if f.endswith(\".jpg\"):\n",
        "        path=os.path.join(root, f)\n",
        "        split_string = path.split(\".\",1)\n",
        "        split_string_json = path.split(\"/\")\n",
        "        \n",
        "        newnameJson = \"\"\n",
        "        for v in range(len(split_string_json)-2):\n",
        "          newnameJson += split_string_json[v] + \"/\"\n",
        "        newnameJson += \"/Image_data/labels/\"\n",
        "\n",
        "        newnameJson += split_string_json[len(split_string_json)-1].split(\".\",1)[0] + \"_\" + str(cnt) + \".json\"\n",
        "        # print(newnameJson)\n",
        "        newnameImg = split_string[0] +\"_\"+ str(cnt) + \".jpg\"\n",
        "\n",
        "        result = labeled_info.loc[(labeled_info['path'] == path)]\n",
        "        if(result['label'].iloc[0] == 'noface'):\n",
        "            !mv $path $newnameImg\n",
        "            dest = \"/content/drive/MyDrive/LRFD/Image_data/noface\"\n",
        "            !mv $newnameImg $dest\n",
        "            print(\"removed file wiht path : \" + path)\n",
        "        else:\n",
        "          !mv $path $newnameImg\n",
        "          dest = \"/content/drive/MyDrive/LRFD/Image_data/img\"\n",
        "          !mv $newnameImg $dest\n",
        "          obj = []\n",
        "          obj.append({\n",
        "              \"label\":\"face\",\n",
        "              \"points\":result['points'].iloc[0]\n",
        "          })\n",
        "          \n",
        "          with open(newnameJson, \"w\") as file:\n",
        "            json.dump([ob for ob in obj], file)\n",
        "        cnt += 1\n",
        "\n"
      ],
      "metadata": {
        "id": "q-cJcLNBTpCK"
      },
      "execution_count": null,
      "outputs": []
    },
    {
      "cell_type": "code",
      "source": [
        "!zip -rv labeld_images_new \"/content/drive/MyDrive/LRFD/Image_data\""
      ],
      "metadata": {
        "id": "hHuiL-4yQQAr"
      },
      "execution_count": null,
      "outputs": []
    },
    {
      "cell_type": "code",
      "source": [
        "!mv \"/content/labeld_images_new.zip\" \"/content/drive/MyDrive/LRFD/\""
      ],
      "metadata": {
        "id": "WAbC_B1ycoFS"
      },
      "execution_count": null,
      "outputs": []
    }
  ]
}